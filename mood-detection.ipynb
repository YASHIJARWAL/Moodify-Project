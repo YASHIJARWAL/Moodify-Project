{
 "cells": [
  {
   "cell_type": "markdown",
   "id": "eb311e38",
   "metadata": {
    "papermill": {
     "duration": 0.006932,
     "end_time": "2022-06-16T17:49:10.995354",
     "exception": false,
     "start_time": "2022-06-16T17:49:10.988422",
     "status": "completed"
    },
    "tags": []
   },
   "source": [
    "\n",
    "# Loading Libraries"
   ]
  },
  {
   "cell_type": "code",
   "execution_count": null,
   "id": "d66a3edf",
   "metadata": {
    "_cell_guid": "b1076dfc-b9ad-4769-8c92-a6c4dae69d19",
    "_uuid": "8f2839f25d086af736a60e9eeb907d3b93b6e0e5",
    "execution": {
     "iopub.execute_input": "2022-06-16T17:49:11.009583Z",
     "iopub.status.busy": "2022-06-16T17:49:11.008854Z",
     "iopub.status.idle": "2022-06-16T17:49:17.536869Z",
     "shell.execute_reply": "2022-06-16T17:49:17.536063Z"
    },
    "papermill": {
     "duration": 6.537492,
     "end_time": "2022-06-16T17:49:17.539018",
     "exception": false,
     "start_time": "2022-06-16T17:49:11.001526",
     "status": "completed"
    },
    "tags": []
   },
   "outputs": [],
   "source": [
    "import numpy as np\n",
    "import pandas as pd\n",
    "import seaborn as sns\n",
    "sns.set_theme(style=\"whitegrid\")\n",
    "import matplotlib.pyplot as plt\n",
    "%matplotlib inline\n",
    "\n",
    "import datetime\n",
    "import os\n",
    "import cv2\n",
    "\n",
    "import tensorflow as tf\n",
    "from tensorflow.keras.optimizers import Adam, RMSprop, SGD\n",
    "\n",
    "from keras import regularizers\n",
    "from keras.layers import Conv2D, Dense, BatchNormalization, Activation, Dropout, MaxPooling2D, Flatten\n",
    "from keras.callbacks import ModelCheckpoint, CSVLogger, TensorBoard, EarlyStopping, ReduceLROnPlateau\n",
    "from keras_preprocessing.image import ImageDataGenerator, load_img\n",
    "from keras.utils.vis_utils import plot_model\n",
    "\n",
    "from sklearn.metrics import classification_report, confusion_matrix\n",
    "\n",
    "main_accent_colour = \"#b366ff\"\n",
    "dim_colour=\"darkgrey\"\n",
    "main_palette = [\"#FBE5C0\", \"#DD9A30\", \"#F88379\", \"#FF6FC2\", \"purple\", \"#D086F6\", \"#B0D2C2\", \"#4C5D70\", \"#6FA2CE\", \"#382D24\", \"#3ACF3A\", \"#7D7D00\"]"
   ]
  },
  {
   "cell_type": "markdown",
   "id": "4d7575ba",
   "metadata": {},
   "source": [
    "# image capture "
   ]
  },
  {
   "cell_type": "code",
   "execution_count": null,
   "id": "8a00a60d",
   "metadata": {},
   "outputs": [],
   "source": [
    "import cv2\n",
    "\n",
    "cam = cv2.VideoCapture(0)\n",
    "\n",
    "cv2.namedWindow(\"test\")\n",
    "\n",
    "img_counter = 0\n",
    "\n",
    "while True:\n",
    "    ret, frame = cam.read()\n",
    "    if not ret:\n",
    "        print(\"failed to grab frame\")\n",
    "        break\n",
    "    cv2.imshow(\"test\", frame)\n",
    "\n",
    "    k = cv2.waitKey(1)\n",
    "    if k%256 == 27:\n",
    "        # ESC pressed\n",
    "        print(\"Escape hit, closing...\")\n",
    "        break\n",
    "    elif k%256 == 32:\n",
    "        # SPACE pressed\n",
    "        img_name = \"opencv_frame_{}.png\".format(img_counter)\n",
    "        cv2.imwrite(img_name, frame)\n",
    "        print(\"{} written!\".format(img_name))\n",
    "        img_counter += 1\n",
    "\n",
    "cam.release()\n",
    "\n",
    "cv2.destroyAllWindows()\n",
    "print(img_name)"
   ]
  },
  {
   "cell_type": "code",
   "execution_count": null,
   "id": "4493753c",
   "metadata": {},
   "outputs": [],
   "source": [
    " "
   ]
  },
  {
   "cell_type": "markdown",
   "id": "8cb678c6",
   "metadata": {
    "papermill": {
     "duration": 0.006194,
     "end_time": "2022-06-16T17:49:17.551450",
     "exception": false,
     "start_time": "2022-06-16T17:49:17.545256",
     "status": "completed"
    },
    "tags": []
   },
   "source": [
    "# Analyzing"
   ]
  },
  {
   "cell_type": "code",
   "execution_count": null,
   "id": "301e15f3",
   "metadata": {
    "execution": {
     "iopub.execute_input": "2022-06-16T17:49:17.564765Z",
     "iopub.status.busy": "2022-06-16T17:49:17.564230Z",
     "iopub.status.idle": "2022-06-16T17:49:17.581136Z",
     "shell.execute_reply": "2022-06-16T17:49:17.580387Z"
    },
    "papermill": {
     "duration": 0.025636,
     "end_time": "2022-06-16T17:49:17.583120",
     "exception": false,
     "start_time": "2022-06-16T17:49:17.557484",
     "status": "completed"
    },
    "tags": []
   },
   "outputs": [],
   "source": [
    "train_dir = 'C:/Users/KIIT/train/'\n",
    "test_dir = 'C:/Users/KIIT/test/'\n",
    "\n",
    "row = 48\n",
    "col = 48\n",
    "classes = len(os.listdir('C:/Users/KIIT/train/'))"
   ]
  },
  {
   "cell_type": "code",
   "execution_count": null,
   "id": "a1d8645c",
   "metadata": {
    "execution": {
     "iopub.execute_input": "2022-06-16T17:49:17.596231Z",
     "iopub.status.busy": "2022-06-16T17:49:17.595630Z",
     "iopub.status.idle": "2022-06-16T17:49:21.349343Z",
     "shell.execute_reply": "2022-06-16T17:49:21.348352Z"
    },
    "papermill": {
     "duration": 3.762643,
     "end_time": "2022-06-16T17:49:21.351701",
     "exception": false,
     "start_time": "2022-06-16T17:49:17.589058",
     "status": "completed"
    },
    "tags": []
   },
   "outputs": [],
   "source": [
    "print(\"Train Set :\")\n",
    "\n",
    "train_count = []\n",
    "for folder in os.listdir(train_dir) :\n",
    "    print(folder, \"folder contains\\t\\t\", len(os.listdir(train_dir+folder)), \"image\")\n",
    "    train_count.append(len(os.listdir(train_dir+folder)))\n",
    "    \n",
    "print()\n",
    "\n",
    "test_count = []\n",
    "print(\"Test Set :\")\n",
    "for folder in os.listdir(test_dir) :\n",
    "    print(folder, \"folder contains\\t\\t\", len(os.listdir(test_dir+folder)), \"images\")\n",
    "    test_count.append(len(os.listdir(test_dir+folder)))"
   ]
  },
  {
   "cell_type": "code",
   "execution_count": null,
   "id": "b37e2e73",
   "metadata": {
    "execution": {
     "iopub.execute_input": "2022-06-16T17:49:21.371209Z",
     "iopub.status.busy": "2022-06-16T17:49:21.370644Z",
     "iopub.status.idle": "2022-06-16T17:49:22.515263Z",
     "shell.execute_reply": "2022-06-16T17:49:22.514466Z"
    },
    "papermill": {
     "duration": 1.158599,
     "end_time": "2022-06-16T17:49:22.517491",
     "exception": false,
     "start_time": "2022-06-16T17:49:21.358892",
     "status": "completed"
    },
    "tags": []
   },
   "outputs": [],
   "source": [
    "vals = [\"disgust\"]\n",
    "palette = {c: dim_colour if c not in vals else main_accent_colour for c in os.listdir(train_dir)}\n",
    "\n",
    "plt.figure(figsize=(8,4))\n",
    "\n",
    "ax = sns.barplot(y=os.listdir(train_dir),\n",
    "                 x=train_count,\n",
    "                 palette=palette,\n",
    "                 orientation=\"horizontal\",\n",
    ").set(title='Train Classes')\n",
    "\n",
    "plt.show()\n",
    "\n",
    "print()\n",
    "\n",
    "ax = sns.barplot(y=os.listdir(test_dir),\n",
    "                 x=test_count,\n",
    "                 palette=palette,\n",
    "                 orientation=\"horizontal\",\n",
    ").set(title='Test Classes')\n",
    "\n",
    "plt.show()\n",
    "\n",
    "print()\n",
    "\n",
    "plt.figure(figsize=(25,25))\n",
    "\n",
    "i = 1\n",
    "for folder in os.listdir(train_dir):\n",
    "    \n",
    "    img = load_img((train_dir + folder +'/'+ os.listdir(train_dir + folder)[1]))\n",
    "    plt.subplot(1,7,i)\n",
    "    plt.imshow(img)\n",
    "    plt.title(folder)\n",
    "    plt.axis('off')\n",
    "    i += 1\n",
    "    \n",
    "plt.show()"
   ]
  },
  {
   "cell_type": "markdown",
   "id": "11e7cdc5",
   "metadata": {
    "papermill": {
     "duration": 0.008211,
     "end_time": "2022-06-16T17:49:22.535337",
     "exception": false,
     "start_time": "2022-06-16T17:49:22.527126",
     "status": "completed"
    },
    "tags": []
   },
   "source": [
    "# Preprocessing"
   ]
  },
  {
   "cell_type": "code",
   "execution_count": null,
   "id": "462232cd",
   "metadata": {
    "execution": {
     "iopub.execute_input": "2022-06-16T17:49:22.553920Z",
     "iopub.status.busy": "2022-06-16T17:49:22.553610Z",
     "iopub.status.idle": "2022-06-16T17:49:54.343821Z",
     "shell.execute_reply": "2022-06-16T17:49:54.342987Z"
    },
    "papermill": {
     "duration": 31.810169,
     "end_time": "2022-06-16T17:49:54.353814",
     "exception": false,
     "start_time": "2022-06-16T17:49:22.543645",
     "status": "completed"
    },
    "tags": []
   },
   "outputs": [],
   "source": [
    "train_datagen = ImageDataGenerator(rescale=1./255,\n",
    "                                   zoom_range=0.3,\n",
    "                                   horizontal_flip=True)\n",
    "\n",
    "\n",
    "training_set = train_datagen.flow_from_directory(train_dir,\n",
    "                                                batch_size=64,\n",
    "                                                target_size=(48,48),\n",
    "                                                shuffle=True,\n",
    "                                                color_mode='grayscale',\n",
    "                                                class_mode='categorical')\n",
    "\n",
    "test_datagen = ImageDataGenerator(rescale=1./255)\n",
    "test_set = test_datagen.flow_from_directory(test_dir,\n",
    "                                                batch_size=64,\n",
    "                                                target_size=(48,48),\n",
    "                                                shuffle=True,\n",
    "                                                color_mode='grayscale',\n",
    "                                                class_mode='categorical')"
   ]
  },
  {
   "cell_type": "code",
   "execution_count": null,
   "id": "6b2dec51",
   "metadata": {
    "execution": {
     "iopub.execute_input": "2022-06-16T17:49:54.371028Z",
     "iopub.status.busy": "2022-06-16T17:49:54.370730Z",
     "iopub.status.idle": "2022-06-16T17:49:54.376268Z",
     "shell.execute_reply": "2022-06-16T17:49:54.375553Z"
    },
    "papermill": {
     "duration": 0.016144,
     "end_time": "2022-06-16T17:49:54.378020",
     "exception": false,
     "start_time": "2022-06-16T17:49:54.361876",
     "status": "completed"
    },
    "scrolled": true,
    "tags": []
   },
   "outputs": [],
   "source": [
    "training_set.class_indices"
   ]
  },
  {
   "cell_type": "markdown",
   "id": "12d98dc8",
   "metadata": {
    "papermill": {
     "duration": 0.007664,
     "end_time": "2022-06-16T17:49:54.393506",
     "exception": false,
     "start_time": "2022-06-16T17:49:54.385842",
     "status": "completed"
    },
    "tags": []
   },
   "source": [
    "# Model"
   ]
  },
  {
   "cell_type": "code",
   "execution_count": null,
   "id": "d3b7a59b",
   "metadata": {
    "execution": {
     "iopub.execute_input": "2022-06-16T17:49:54.410581Z",
     "iopub.status.busy": "2022-06-16T17:49:54.410027Z",
     "iopub.status.idle": "2022-06-16T17:49:54.421220Z",
     "shell.execute_reply": "2022-06-16T17:49:54.420500Z"
    },
    "papermill": {
     "duration": 0.021493,
     "end_time": "2022-06-16T17:49:54.422818",
     "exception": false,
     "start_time": "2022-06-16T17:49:54.401325",
     "status": "completed"
    },
    "tags": []
   },
   "outputs": [],
   "source": [
    "def get_model(input_size, classes=7):\n",
    "    \n",
    "    model = tf.keras.models.Sequential()   \n",
    "\n",
    "    model.add(Conv2D(32, kernel_size=(3, 3), padding='same', activation='relu', input_shape =input_size))\n",
    "    model.add(Conv2D(64, kernel_size=(3, 3), activation='relu', padding='same'))\n",
    "    model.add(BatchNormalization())\n",
    "    model.add(MaxPooling2D(2, 2))\n",
    "    model.add(Dropout(0.25))\n",
    "\n",
    "    model.add(Conv2D(128, kernel_size=(3, 3), activation='relu', padding='same', kernel_regularizer=regularizers.l2(0.01)))\n",
    "    model.add(Conv2D(256, kernel_size=(3, 3), activation='relu', kernel_regularizer=regularizers.l2(0.01)))\n",
    "    model.add(BatchNormalization())\n",
    "    model.add(MaxPooling2D(pool_size=(2, 2)))\n",
    "    model.add(Dropout(0.25))\n",
    "\n",
    "    model.add(Flatten())\n",
    "    model.add(Dense(1024, activation='relu'))\n",
    "    model.add(Dropout(0.5))\n",
    "    \n",
    "    model.add(Dense(classes, activation='softmax'))\n",
    "\n",
    "    model.compile(optimizer=Adam(lr=0.0001, decay=1e-6), \n",
    "                  loss='categorical_crossentropy', \n",
    "                  metrics=['accuracy'])\n",
    "    return model"
   ]
  },
  {
   "cell_type": "code",
   "execution_count": null,
   "id": "44569d8f",
   "metadata": {
    "execution": {
     "iopub.execute_input": "2022-06-16T17:49:54.440792Z",
     "iopub.status.busy": "2022-06-16T17:49:54.440044Z",
     "iopub.status.idle": "2022-06-16T17:49:57.389617Z",
     "shell.execute_reply": "2022-06-16T17:49:57.388859Z"
    },
    "papermill": {
     "duration": 2.962833,
     "end_time": "2022-06-16T17:49:57.393656",
     "exception": false,
     "start_time": "2022-06-16T17:49:54.430823",
     "status": "completed"
    },
    "tags": []
   },
   "outputs": [],
   "source": [
    "fernet = get_model((row,col,1), classes)\n",
    "fernet.summary()"
   ]
  },
  {
   "cell_type": "code",
   "execution_count": null,
   "id": "16d049b9",
   "metadata": {
    "execution": {
     "iopub.execute_input": "2022-06-16T17:49:57.413356Z",
     "iopub.status.busy": "2022-06-16T17:49:57.412596Z",
     "iopub.status.idle": "2022-06-16T17:49:58.377315Z",
     "shell.execute_reply": "2022-06-16T17:49:58.376422Z"
    },
    "papermill": {
     "duration": 0.976059,
     "end_time": "2022-06-16T17:49:58.379405",
     "exception": false,
     "start_time": "2022-06-16T17:49:57.403346",
     "status": "completed"
    },
    "tags": []
   },
   "outputs": [],
   "source": [
    "plot_model(fernet, show_layer_names=True)"
   ]
  },
  {
   "cell_type": "markdown",
   "id": "cf9e0f3a",
   "metadata": {
    "papermill": {
     "duration": 0.008985,
     "end_time": "2022-06-16T17:49:58.397688",
     "exception": false,
     "start_time": "2022-06-16T17:49:58.388703",
     "status": "completed"
    },
    "tags": []
   },
   "source": [
    "# Checkpoint"
   ]
  },
  {
   "cell_type": "code",
   "execution_count": null,
   "id": "86aad176",
   "metadata": {
    "execution": {
     "iopub.execute_input": "2022-06-16T17:49:58.417951Z",
     "iopub.status.busy": "2022-06-16T17:49:58.417630Z",
     "iopub.status.idle": "2022-06-16T17:49:58.762275Z",
     "shell.execute_reply": "2022-06-16T17:49:58.760589Z"
    },
    "papermill": {
     "duration": 0.35843,
     "end_time": "2022-06-16T17:49:58.765362",
     "exception": false,
     "start_time": "2022-06-16T17:49:58.406932",
     "status": "completed"
    },
    "tags": []
   },
   "outputs": [],
   "source": [
    "chk_path = 'ferNet.h5'\n",
    "log_dir = \"checkpoint/logs/\" + datetime.datetime.now().strftime(\"%Y%m%d-%H%M%S\")\n",
    "\n",
    "checkpoint = ModelCheckpoint(filepath=chk_path,\n",
    "                             save_best_only=True,\n",
    "                             verbose=1,\n",
    "                             mode='min',\n",
    "                             moniter='val_accuracy')\n",
    "\n",
    "earlystop = EarlyStopping(monitor='val_accuracy', \n",
    "                          min_delta=0, \n",
    "                          patience=3, \n",
    "                          verbose=1, \n",
    "                          restore_best_weights=True)\n",
    "                        \n",
    "reduce_lr = ReduceLROnPlateau(monitor='val_accuracy', \n",
    "                              factor=0.2, \n",
    "                              patience=6, \n",
    "                              verbose=1, \n",
    "                              min_delta=0.0001)\n",
    "\n",
    "\n",
    "tensorboard_callback = tf.keras.callbacks.TensorBoard(log_dir=log_dir, histogram_freq=1)\n",
    "csv_logger = CSVLogger('training.log')\n",
    "\n",
    "callbacks = [checkpoint, reduce_lr, csv_logger]"
   ]
  },
  {
   "cell_type": "code",
   "execution_count": null,
   "id": "7e0e26fe",
   "metadata": {
    "_kg_hide-output": true,
    "execution": {
     "iopub.execute_input": "2022-06-16T17:49:58.785383Z",
     "iopub.status.busy": "2022-06-16T17:49:58.785095Z",
     "iopub.status.idle": "2022-06-16T20:33:40.239357Z",
     "shell.execute_reply": "2022-06-16T20:33:40.238491Z"
    },
    "papermill": {
     "duration": 9821.466641,
     "end_time": "2022-06-16T20:33:40.241708",
     "exception": false,
     "start_time": "2022-06-16T17:49:58.775067",
     "status": "completed"
    },
    "scrolled": true,
    "tags": []
   },
   "outputs": [],
   "source": [
    "steps_per_epoch = training_set.n // training_set.batch_size\n",
    "validation_steps = test_set.n // test_set.batch_size\n",
    "\n",
    "hist = fernet.fit(x=training_set,\n",
    "                  validation_data=test_set,\n",
    "                  epochs=48,\n",
    "                  callbacks=callbacks,\n",
    "                  steps_per_epoch=steps_per_epoch,\n",
    "          \n",
    "                  validation_steps=validation_steps)"
   ]
  },
  {
   "cell_type": "code",
   "execution_count": null,
   "id": "ed16535c",
   "metadata": {
    "execution": {
     "iopub.execute_input": "2022-06-16T20:33:48.586388Z",
     "iopub.status.busy": "2022-06-16T20:33:48.586040Z",
     "iopub.status.idle": "2022-06-16T20:33:48.828374Z",
     "shell.execute_reply": "2022-06-16T20:33:48.827617Z"
    },
    "papermill": {
     "duration": 4.426591,
     "end_time": "2022-06-16T20:33:48.830241",
     "exception": false,
     "start_time": "2022-06-16T20:33:44.403650",
     "status": "completed"
    },
    "tags": []
   },
   "outputs": [],
   "source": [
    "plt.plot(hist.history['loss'])\n",
    "plt.plot(hist.history['val_loss'])\n",
    "plt.title('model loss')\n",
    "plt.ylabel('loss')\n",
    "plt.xlabel('epoch')\n",
    "plt.legend(['train', 'test'], loc='upper right')"
   ]
  },
  {
   "cell_type": "code",
   "execution_count": null,
   "id": "5d07190a",
   "metadata": {
    "execution": {
     "iopub.execute_input": "2022-06-16T20:33:57.630767Z",
     "iopub.status.busy": "2022-06-16T20:33:57.629964Z",
     "iopub.status.idle": "2022-06-16T20:33:57.855615Z",
     "shell.execute_reply": "2022-06-16T20:33:57.854878Z"
    },
    "papermill": {
     "duration": 4.522784,
     "end_time": "2022-06-16T20:33:57.857782",
     "exception": false,
     "start_time": "2022-06-16T20:33:53.334998",
     "status": "completed"
    },
    "scrolled": true,
    "tags": []
   },
   "outputs": [],
   "source": [
    "plt.plot(hist.history['accuracy'])\n",
    "plt.plot(hist.history['val_accuracy'])\n",
    "plt.title('model accuracy')\n",
    "plt.ylabel('accuracy')\n",
    "plt.xlabel('epoch')\n",
    "plt.legend(['train', 'test'], loc='upper right')"
   ]
  },
  {
   "cell_type": "code",
   "execution_count": null,
   "id": "1442f8e1",
   "metadata": {
    "execution": {
     "iopub.execute_input": "2022-06-16T20:34:07.257651Z",
     "iopub.status.busy": "2022-06-16T20:34:07.257298Z",
     "iopub.status.idle": "2022-06-16T20:34:46.579889Z",
     "shell.execute_reply": "2022-06-16T20:34:46.578919Z"
    },
    "papermill": {
     "duration": 43.657767,
     "end_time": "2022-06-16T20:34:46.581642",
     "exception": false,
     "start_time": "2022-06-16T20:34:02.923875",
     "status": "completed"
    },
    "tags": []
   },
   "outputs": [],
   "source": [
    "train_loss, train_accu = fernet.evaluate(training_set)\n",
    "test_loss, test_accu = fernet.evaluate(test_set)\n",
    "print(\"final train accuracy = {:.2f} , validation accuracy = {:.2f}\".format(train_accu*100, test_accu*100))"
   ]
  },
  {
   "cell_type": "markdown",
   "id": "db7524c4",
   "metadata": {
    "papermill": {
     "duration": 4.285855,
     "end_time": "2022-06-16T20:34:55.083376",
     "exception": false,
     "start_time": "2022-06-16T20:34:50.797521",
     "status": "completed"
    },
    "tags": []
   },
   "source": [
    "# Result"
   ]
  },
  {
   "cell_type": "code",
   "execution_count": null,
   "id": "3505cef1",
   "metadata": {
    "execution": {
     "iopub.execute_input": "2022-06-16T20:35:03.826350Z",
     "iopub.status.busy": "2022-06-16T20:35:03.825976Z",
     "iopub.status.idle": "2022-06-16T20:35:38.830157Z",
     "shell.execute_reply": "2022-06-16T20:35:38.829386Z"
    },
    "papermill": {
     "duration": 39.226612,
     "end_time": "2022-06-16T20:35:38.832100",
     "exception": false,
     "start_time": "2022-06-16T20:34:59.605488",
     "status": "completed"
    },
    "tags": []
   },
   "outputs": [],
   "source": [
    "y_pred = fernet.predict(training_set)\n",
    "y_pred = np.argmax(y_pred, axis=1)\n",
    "class_labels = test_set.class_indices\n",
    "class_labels = {v:k for k,v in class_labels.items()}\n",
    "\n",
    "cm_train = confusion_matrix(training_set.classes, y_pred)\n",
    "print('Confusion Matrix')\n",
    "print(cm_train)\n",
    "print('Classification Report')\n",
    "target_names = list(class_labels.values())\n",
    "print(classification_report(training_set.classes, y_pred, target_names=target_names))\n",
    "\n",
    "plt.figure(figsize=(8,8))\n",
    "plt.imshow(cm_train, interpolation='nearest')\n",
    "plt.colorbar()\n",
    "tick_mark = np.arange(len(target_names))\n",
    "_ = plt.xticks(tick_mark, target_names, rotation=90)\n",
    "_ = plt.yticks(tick_mark, target_names)"
   ]
  },
  {
   "cell_type": "code",
   "execution_count": null,
   "id": "8c108ff6",
   "metadata": {
    "execution": {
     "iopub.execute_input": "2022-06-16T20:35:48.136520Z",
     "iopub.status.busy": "2022-06-16T20:35:48.136177Z",
     "iopub.status.idle": "2022-06-16T20:35:54.427277Z",
     "shell.execute_reply": "2022-06-16T20:35:54.426523Z"
    },
    "papermill": {
     "duration": 10.501362,
     "end_time": "2022-06-16T20:35:54.429224",
     "exception": false,
     "start_time": "2022-06-16T20:35:43.927862",
     "status": "completed"
    },
    "scrolled": true,
    "tags": []
   },
   "outputs": [],
   "source": [
    "fernet.save(\"2130094\")\n"
   ]
  },
  {
   "cell_type": "code",
   "execution_count": null,
   "id": "c176179d",
   "metadata": {},
   "outputs": [],
   "source": [
    "import tensorflow.keras.models"
   ]
  },
  {
   "cell_type": "code",
   "execution_count": null,
   "id": "d0678e94",
   "metadata": {},
   "outputs": [],
   "source": [
    "models = tensorflow.keras.models.load_model('2130094')"
   ]
  },
  {
   "cell_type": "code",
   "execution_count": null,
   "id": "bd8b4168",
   "metadata": {},
   "outputs": [],
   "source": [
    "models"
   ]
  },
  {
   "cell_type": "markdown",
   "id": "7277e4bb",
   "metadata": {
    "papermill": {
     "duration": 4.46012,
     "end_time": "2022-06-16T20:36:03.265545",
     "exception": false,
     "start_time": "2022-06-16T20:35:58.805425",
     "status": "completed"
    },
    "tags": []
   },
   "source": [
    "# Recommending Music And Movies\n"
   ]
  },
  {
   "cell_type": "code",
   "execution_count": null,
   "id": "883a7a83",
   "metadata": {
    "execution": {
     "iopub.execute_input": "2022-06-16T20:36:11.878611Z",
     "iopub.status.busy": "2022-06-16T20:36:11.878258Z",
     "iopub.status.idle": "2022-06-16T20:36:11.922819Z",
     "shell.execute_reply": "2022-06-16T20:36:11.922117Z"
    },
    "papermill": {
     "duration": 4.364648,
     "end_time": "2022-06-16T20:36:11.924520",
     "exception": false,
     "start_time": "2022-06-16T20:36:07.559872",
     "status": "completed"
    },
    "tags": []
   },
   "outputs": [],
   "source": [
    "mood_music = pd.read_csv(\"C:/Users/KIIT/data_moods.csv\")\n",
    "mood_music = mood_music[['name','artist','mood']]\n",
    "mood_music"
   ]
  },
  {
   "cell_type": "code",
   "execution_count": null,
   "id": "23a86b96",
   "metadata": {
    "execution": {
     "iopub.execute_input": "2022-06-16T20:36:21.245401Z",
     "iopub.status.busy": "2022-06-16T20:36:21.245028Z",
     "iopub.status.idle": "2022-06-16T20:36:21.458970Z",
     "shell.execute_reply": "2022-06-16T20:36:21.458243Z"
    },
    "papermill": {
     "duration": 4.574112,
     "end_time": "2022-06-16T20:36:21.460773",
     "exception": false,
     "start_time": "2022-06-16T20:36:16.886661",
     "status": "completed"
    },
    "tags": []
   },
   "outputs": [],
   "source": [
    "image = cv2.imread(img_name,cv2.IMREAD_GRAYSCALE)\n",
    "\n",
    "plt.imshow(image,cmap='gray')\n",
    "plt.show()"
   ]
  },
  {
   "cell_type": "code",
   "execution_count": null,
   "id": "d42f49b4",
   "metadata": {
    "execution": {
     "iopub.execute_input": "2022-06-16T20:36:30.177482Z",
     "iopub.status.busy": "2022-06-16T20:36:30.177134Z",
     "iopub.status.idle": "2022-06-16T20:36:30.333274Z",
     "shell.execute_reply": "2022-06-16T20:36:30.332472Z"
    },
    "papermill": {
     "duration": 4.344926,
     "end_time": "2022-06-16T20:36:30.335088",
     "exception": false,
     "start_time": "2022-06-16T20:36:25.990162",
     "status": "completed"
    },
    "scrolled": true,
    "tags": []
   },
   "outputs": [],
   "source": [
    "image = cv2.resize(image,(48,48))\n",
    "img=np.array(image)\n",
    "img=img.reshape(1,48,48,1)\n",
    "predict_x=models.predict(img) \n",
    "result=np.argmax(predict_x,axis=1)\n",
    "result[0]"
   ]
  },
  {
   "cell_type": "code",
   "execution_count": null,
   "id": "2cbb62eb",
   "metadata": {
    "execution": {
     "iopub.execute_input": "2022-06-16T20:36:39.216751Z",
     "iopub.status.busy": "2022-06-16T20:36:39.216376Z",
     "iopub.status.idle": "2022-06-16T20:36:39.240182Z",
     "shell.execute_reply": "2022-06-16T20:36:39.239445Z"
    },
    "papermill": {
     "duration": 4.580375,
     "end_time": "2022-06-16T20:36:39.241868",
     "exception": false,
     "start_time": "2022-06-16T20:36:34.661493",
     "status": "completed"
    },
    "tags": []
   },
   "outputs": [],
   "source": [
    "if(result[0]==0 or result[0]==1 or result[0]==2 ):\n",
    "    #for angery,disgust,fear\n",
    "    filter1=mood_music['mood']=='Calm'\n",
    "    f1=mood_music.where(filter1)\n",
    "    f1=f1.dropna()\n",
    "    f2 =f1.sample(n=5)\n",
    "    f2.reset_index(inplace=True)\n",
    "    display(f2)\n",
    "if(result[0]==3 or result[0]==4):\n",
    "    #for happy, neutral\n",
    "    filter1=mood_music['mood']=='Happy'\n",
    "    f1=mood_music.where(filter1)\n",
    "    f1=f1.dropna()\n",
    "    f2 =f1.sample(n=5)\n",
    "    f2.reset_index(inplace=True)\n",
    "    display(f2)\n",
    "if(result[0]==5):\n",
    "       #for Sad\n",
    "    filter1=mood_music['mood']=='Sad'\n",
    "    f1=mood_music.where(filter1)\n",
    "    f1=f1.dropna()\n",
    "    f2 =f1.sample(n=5)\n",
    "    f2.reset_index(inplace=True)\n",
    "    display(f2)\n",
    "if(result[0]==6):\n",
    "     #for surprise\n",
    "    filter1=mood_music['mood']=='Energetic'\n",
    "    f1=mood_music.where(filter1)\n",
    "    f1=f1.dropna()\n",
    "    f2 =f1.sample(n=5)\n",
    "    f2.reset_index(inplace=True)\n",
    "    display(f2)\n"
   ]
  },
  {
   "cell_type": "code",
   "execution_count": null,
   "id": "6647f5fb",
   "metadata": {},
   "outputs": [],
   "source": []
  },
  {
   "cell_type": "code",
   "execution_count": null,
   "id": "6ce149b6",
   "metadata": {},
   "outputs": [],
   "source": [
    "movie=pd.read_csv(\"movies.csv\")\n",
    "mood_movie=movie[['title','genres']]\n",
    "movie\n",
    "\n"
   ]
  },
  {
   "cell_type": "code",
   "execution_count": null,
   "id": "b0520d34",
   "metadata": {
    "scrolled": true
   },
   "outputs": [],
   "source": [
    "filter1=mood_movie[\"genres\"]\n",
    "j=0\n",
    "if(result[0]==0 or result[0]==1 or result[0]==2 ):\n",
    "    #for angery,disgust,fear\n",
    "    filter1=mood_movie[\"genres\"]\n",
    "    for i in filter1:\n",
    "        l1=list(i.split(\"|\"))\n",
    "        if\"Comedy\" in l1:\n",
    "            print(mood_movie.iloc[j])\n",
    "        j+=1\n",
    "if(result[0]==3 or result[0]==4):\n",
    "    #for happy, neutral\n",
    "    filter1=mood_movie[\"genres\"]\n",
    "    for i in filter1:\n",
    "        l1=list(i.split(\"|\"))\n",
    "        if \"Adventure\" and \"Mystery\" in l1:\n",
    "            print(mood_movie.iloc[j])\n",
    "        j+=1\n",
    "if(result[0]==5):\n",
    "       #for Sad\n",
    "     filter1=mood_movie[\"genres\"]\n",
    "     for i in filter1:\n",
    "        l1=list(i.split(\"|\"))\n",
    "        if \"Action\" and \"Sci-Fi\" in l1:\n",
    "            print(mood_movie.iloc[j])\n",
    "        j+=1\n",
    "if(result[0]==6):\n",
    "     #for surprise\n",
    "     filter1=mood_movie[\"genres\"]\n",
    "     for i in filter1:\n",
    "        l1=list(i.split(\"|\"))\n",
    "        if \"Drama\" and \"Documentry\" in l1:\n",
    "            print(mood_movie.iloc[j])\n",
    "        j+=1"
   ]
  },
  {
   "cell_type": "markdown",
   "id": "9a07a497",
   "metadata": {},
   "source": [
    "# chatbot"
   ]
  },
  {
   "cell_type": "code",
   "execution_count": null,
   "id": "ad919ff6",
   "metadata": {},
   "outputs": [],
   "source": [
    "data={\"intents\": [\n",
    "        \n",
    "        {\"tag\": \"success\",\n",
    "             \"patterns\": [\"hey I completed my project\", \"I got selected\", \"I got promoted\" ],\n",
    "         \"responses\": [\"Congrats!you deserved it\",\"Party time!! so happy for you\",\"So proud of you\"],\n",
    "         \"context\": [\"\"]\n",
    "        },\n",
    "        {\"tag\": \"disgusted\",\n",
    "             \"patterns\": [\"he spits while eating\", \"she is creepy\", \"he is always making me uncomfortable\" ],\n",
    "         \"responses\": [\"you can talk to them about this\",\"you are too good for h\",\"You don't have to be around that person\"],\n",
    "         \"context\": [\"\"]\n",
    "        },\n",
    "        {\"tag\": \"angry\",\n",
    "             \"patterns\": [\"this is such a waste of time\", \"I'm so done now\", \"I am so angry about it\" ],\n",
    "         \"responses\": [\"Calm down you'll be fine\",\"It's okay I am always here\",\"Hey champ don't waste yourself\"],\n",
    "         \"context\": [\"\"]\n",
    "        },\n",
    "        {\"tag\": \"travel\",\n",
    "             \"patterns\": [\"I wish to travel\", \"I want to explore myself\", \"I want to find as new hobby\" ],\n",
    "         \"responses\": [\"Sure dude that's awesome\",\"good to see you like this\",\"That's a rocking idea\"],\n",
    "         \"context\": [\"\"]\n",
    "        },\n",
    "        {\"tag\": \"greet\",\n",
    "             \"patterns\": [\"Hi\", \"Hey\", \"How are you?\" ],\n",
    "         \"responses\": [\"Hi good to see you\",\"hey dude what's up?\",\"hey I'm great how about you?\"],\n",
    "         \"context\": [\"\"]\n",
    "        },\n",
    "        {\"tag\": \"life\",\n",
    "             \"patterns\": [\"what is life?\", \"when will I succeed?\", \"Why do I fail?\" ],\n",
    "         \"responses\": [\"Good things take time\",\"It's okay, it's just a bad phase\",\"come on you will be good\"],\n",
    "         \"context\": [\"\"]\n",
    "        },\n",
    "        {\"tag\": \"music\",\n",
    "        \"patterns\": [\"what's your favorite song?\", \"who's your favorite artist?\", \"do you like jazz?\" ],\n",
    "        \"responses\": [\"I like all kinds of music\", \"I'm not really into music, sorry\", \"I love classical music\"],\n",
    "        \"context\": [\"\"]\n",
    "        },\n",
    "        {\"tag\": \"movies\",\n",
    "        \"patterns\": [\"what's your favorite movie?\", \"have you seen the latest Marvel movie?\", \"what's the best action movie?\" ],\n",
    "        \"responses\": [\"I'm a chatbot, so I don't really watch movies\", \"I haven't watched any good movies lately\", \"I love horror movies\"],\n",
    "        \"context\": [\"\"]\n",
    "        },\n",
    "        {\"tag\": \"books\",\n",
    "        \"patterns\": [\"what's your favorite book?\", \"have you read the latest Stephen King novel?\", \"what's the best self-help book?\" ],\n",
    "        \"responses\": [\"I don't read books, sorry\", \"I haven't read any good books lately\", \"I love mystery novels\"],\n",
    "        \"context\": [\"\"]\n",
    "        },\n",
    "        {\"tag\": \"food\",\n",
    "        \"patterns\": [\"what's your favorite cuisine?\", \"have you tried Indian food?\", \"what's the best restaurant in town?\" ],\n",
    "        \"responses\": [\"I'm a chatbot, so I don't really eat food\", \"I haven't tried any new restaurants lately\", \"I love Italian food\"],\n",
    "        \"context\": [\"\"]\n",
    "        },\n",
    "        {\"tag\": \"sports\",\n",
    "        \"patterns\": [\"what's your favorite sport?\", \"have you watched the latest soccer game?\", \"what's the best sports team?\" ],\n",
    "        \"responses\": [\"I'm a chatbot, so I don't really watch sports\", \"I haven't watched any good games lately\", \"I love basketball\"],\n",
    "        \"context\": [\"\"]\n",
    "        },\n",
    "        {\"tag\": \"technology\",\n",
    "        \"patterns\": [\"what's your favorite tech gadget?\", \"have you tried the latest iPhone?\", \"what's the best laptop for gaming?\" ],\n",
    "        \"responses\": [\"I'm a chatbot, so I don't really use technology\", \"I haven't tried any new gadgets lately\", \"I love Apple products\"],\n",
    "        \"context\": [\"\"]\n",
    "        },\n",
    "        {\"tag\": \"animals\",\n",
    "        \"patterns\": [\"what's your favorite animal?\", \"have you seen a panda before?\", \"what's the best pet for kids?\" ],\n",
    "        \"responses\": [\"I'm a chatbot, so I don't really have a favorite animal\", \"I haven't seen any interesting animals lately\", \"I love cats\"],\n",
    "        \"context\": [\"\"]\n",
    "        },\n",
    "        {\"tag\": \"politics\",\n",
    "        \"patterns\": [\"what's your political view?\", \"have you been following the latest election?\", \"who's the best politician?\" ],\n",
    "        \"responses\": [\"I don't have a political view, sorry\", \"I haven't been following politics lately\", \"I don't have an opinion on politicians\"],\n",
    "        \"context\": [\"\"]\n",
    "        },\n",
    "        {\"tag\": \"nature\",\n",
    "        \"patterns\": [\"what's your favorite outdoor activity?\", \"what's the best place to hike?\" ],\n",
    "        \"responses\": [\"Being in sunshine and out is one's best part of life\", \"I love hiking in the mountains\"],\n",
    "        \"context\": [\"\"]\n",
    "        },\n",
    "        {\n",
    "        \"tag\": \"love\",\n",
    "        \"patterns\": [\"I'm in love\",\"How do I know if I'm in love?\",\"I can't stop thinking about them\"],\n",
    "        \"responses\": [\"Love is a beautiful feeling\",\"It sounds like you have strong feelings for them\",\"Love is all about taking a leap of faith\"],\n",
    "        \"context\": [\"\"]\n",
    "        },\n",
    "        {\n",
    "        \"tag\": \"breakup\",\n",
    "        \"patterns\": [\"I just went through a breakup\",\"How do I get over my ex?\",\"I miss them so much\"],\n",
    "        \"responses\": [\"I'm sorry to hear that\",\"Breakups are tough but you will get through this\",\"Take some time for yourself\"],\n",
    "        \"context\": [\"\"]\n",
    "        },\n",
    "        {\n",
    "        \"tag\": \"anxiety\",\n",
    "        \"patterns\": [\"I'm feeling anxious\",\"What do I do when I have an anxiety attack?\",\"How do I cope with anxiety?\"],\n",
    "        \"responses\": [\"Take some deep breaths\",\"Try to focus on the present moment\",\"It's okay to ask for help\"],\n",
    "        \"context\": [\"\"]\n",
    "        },\n",
    "        {\n",
    "        \"tag\": \"depression\",\n",
    "        \"patterns\": [\"I'm feeling depressed\",\"How do I deal with depression?\",\"I don't enjoy anything anymore\"],\n",
    "        \"responses\": [\"It's okay to not be okay\",\"Depression is a common issue, but it can be treated\",\"Have you considered seeking professional help?\"],\n",
    "        \"context\": [\"\"]\n",
    "        },\n",
    "        {\n",
    "        \"tag\": \"motivation\",\n",
    "        \"patterns\": [\"I need motivation\",\"How do I stay motivated?\",\"I'm feeling demotivated\"],\n",
    "        \"responses\": [\"Think about why you started in the first place\",\"Take small steps towards your goal\",\"You got this!\"],\n",
    "        \"context\": [\"\"]\n",
    "        },\n",
    "        {\n",
    "        \"tag\": \"stress\",\n",
    "        \"patterns\": [\"I'm feeling stressed\",\"How do I manage stress?\",\"I can't handle the pressure\"],\n",
    "        \"responses\": [\"Take a break and relax\",\"Try some stress-relieving activities like yoga or meditation\",\"Don't hesitate to ask for help\"],\n",
    "        \"context\": [\"\"]\n",
    "        },\n",
    "        {\n",
    "        \"tag\": \"self-care\",\n",
    "        \"patterns\": [\"I need to practice self-care\",\"How do I take care of myself?\",\"I'm neglecting my needs\"],\n",
    "        \"responses\": [\"Self-care is important, make sure to prioritize it\",\"Take some time for yourself and do something you enjoy\",\"Remember that you deserve to take care of yourself\"],\n",
    "        \"context\": [\"\"]\n",
    "        },\n",
    "        {\"tag\": \"relationships\",\n",
    "        \"patterns\": [\"How do I improve my relationship?\",\"I'm having issues with my partner\",\"What makes a good relationship?\"],\n",
    "        \"responses\": [\"Communication is key in any relationship\",\"Try to understand each other's perspectives\",\"Remember to respect each other\"],\n",
    "        \"context\": [\"\"]\n",
    "        }   \n",
    "        ]\n",
    "}\n"
   ]
  },
  {
   "cell_type": "markdown",
   "id": "8c9c6ead",
   "metadata": {},
   "source": [
    "# IMPORTING LIBRARY"
   ]
  },
  {
   "cell_type": "code",
   "execution_count": null,
   "id": "e177ff32",
   "metadata": {},
   "outputs": [],
   "source": [
    "import json \n",
    "import numpy as np \n",
    "import tensorflow as tf\n",
    "from tensorflow import keras\n",
    "from tensorflow.keras.models import Sequential\n",
    "from tensorflow.keras.layers import Dense, Embedding, GlobalAveragePooling1D\n",
    "from tensorflow.keras.preprocessing.text import Tokenizer\n",
    "from tensorflow.keras.preprocessing.sequence import pad_sequences\n",
    "from sklearn.preprocessing import LabelEncoder"
   ]
  },
  {
   "cell_type": "markdown",
   "id": "27a3a823",
   "metadata": {},
   "source": [
    "# PREPROCESSING "
   ]
  },
  {
   "cell_type": "code",
   "execution_count": null,
   "id": "f6cd48c8",
   "metadata": {},
   "outputs": [],
   "source": [
    "training_sentences = []\n",
    "training_labels = []\n",
    "labels = []\n",
    "responses = []\n",
    "\n",
    "for intent in data['intents']:\n",
    "    for pattern in intent['patterns']:\n",
    "        training_sentences.append(pattern)\n",
    "        training_labels.append(intent['tag'])\n",
    "    responses.append(intent['responses'])   \n",
    "    if intent['tag'] not in labels:\n",
    "        labels.append(intent['tag'])\n",
    "        \n",
    "num_classes = len(labels)\n"
   ]
  },
  {
   "cell_type": "code",
   "execution_count": null,
   "id": "b0050f63",
   "metadata": {},
   "outputs": [],
   "source": [
    "lbl_encoder = LabelEncoder()\n",
    "lbl_encoder.fit(training_labels)\n",
    "training_labels = lbl_encoder.transform(training_labels)"
   ]
  },
  {
   "cell_type": "code",
   "execution_count": null,
   "id": "1bffb745",
   "metadata": {},
   "outputs": [],
   "source": [
    "vocab_size = 1000\n",
    "embedding_dim = 16\n",
    "max_len = 20\n",
    "oov_token = \"<OOV>\"\n",
    "\n",
    "\n",
    "tokenizer = Tokenizer(num_words=vocab_size, oov_token=oov_token)\n",
    "tokenizer.fit_on_texts(training_sentences)\n",
    "word_index = tokenizer.word_index\n",
    "sequences = tokenizer.texts_to_sequences(training_sentences)\n",
    "padded_sequences = pad_sequences(sequences, truncating='post', maxlen=max_len)"
   ]
  },
  {
   "cell_type": "code",
   "execution_count": null,
   "id": "7c72e7ed",
   "metadata": {},
   "outputs": [],
   "source": [
    "model1 = Sequential()\n",
    "model1.add(Embedding(vocab_size, embedding_dim, input_length=max_len))\n",
    "model1.add(GlobalAveragePooling1D())\n",
    "model1.add(Dense(16, activation='relu'))\n",
    "model1.add(Dense(16, activation='relu'))\n",
    "model1.add(Dense(num_classes, activation='softmax'))\n",
    "\n",
    "model1.compile(loss='sparse_categorical_crossentropy', \n",
    "              optimizer='adam', metrics=['accuracy'])\n",
    "\n",
    "model1.summary()"
   ]
  },
  {
   "cell_type": "code",
   "execution_count": null,
   "id": "4247e591",
   "metadata": {},
   "outputs": [],
   "source": [
    "epochs = 200\n",
    "history = model1.fit(padded_sequences, np.array(training_labels), epochs=epochs)"
   ]
  },
  {
   "cell_type": "code",
   "execution_count": null,
   "id": "92ef3e09",
   "metadata": {},
   "outputs": [],
   "source": [
    "train_loss1, train_accu1 = model1.evaluate(training_set)\n",
    "test_loss1, test_accu1 = model1.evaluate(test_set)\n",
    "print(\"final train accuracy = {:.2f} , validation accuracy = {:.2f}\".format(train_accu1*100, test_accu1*100))"
   ]
  },
  {
   "cell_type": "code",
   "execution_count": null,
   "id": "5b3e2d48",
   "metadata": {},
   "outputs": [],
   "source": [
    "# to save the trained model\n",
    "model1.save(\"chat_model\")\n",
    "\n",
    "import pickle\n",
    "\n",
    "# to save the fitted tokenizer\n",
    "with open('tokenizer.pickle', 'wb') as handle:\n",
    "    pickle.dump(tokenizer, handle, protocol=pickle.HIGHEST_PROTOCOL)\n",
    "    \n",
    "# to save the fitted label encoder\n",
    "with open('label_encoder.pickle', 'wb') as ecn_file:\n",
    "    pickle.dump(lbl_encoder, ecn_file, protocol=pickle.HIGHEST_PROTOCOL)"
   ]
  },
  {
   "cell_type": "code",
   "execution_count": null,
   "id": "282d052d",
   "metadata": {
    "scrolled": true
   },
   "outputs": [],
   "source": [
    "print(data)"
   ]
  },
  {
   "cell_type": "code",
   "execution_count": null,
   "id": "08fb5a17",
   "metadata": {},
   "outputs": [],
   "source": [
    "plt.plot(history.history['loss'])\n",
    "plt.title('model loss')\n",
    "plt.ylabel('loss')\n",
    "plt.xlabel('epoch')\n",
    "plt.legend(['train', 'test'], loc='upper right')"
   ]
  },
  {
   "cell_type": "code",
   "execution_count": null,
   "id": "29d01272",
   "metadata": {
    "scrolled": true
   },
   "outputs": [],
   "source": [
    "plt.plot(history.history['accuracy'])\n",
    "plt.title('model accuracy')\n",
    "plt.ylabel('accuracy')\n",
    "plt.xlabel('epoch')\n",
    "plt.legend(['train', 'test'], loc='upper right')"
   ]
  }
 ],
 "metadata": {
  "kernelspec": {
   "display_name": "Python 3 (ipykernel)",
   "language": "python",
   "name": "python3"
  },
  "language_info": {
   "codemirror_mode": {
    "name": "ipython",
    "version": 3
   },
   "file_extension": ".py",
   "mimetype": "text/x-python",
   "name": "python",
   "nbconvert_exporter": "python",
   "pygments_lexer": "ipython3",
   "version": "3.9.7"
  },
  "papermill": {
   "default_parameters": {},
   "duration": 10063.662529,
   "end_time": "2022-06-16T20:36:46.630233",
   "environment_variables": {},
   "exception": null,
   "input_path": "__notebook__.ipynb",
   "output_path": "__notebook__.ipynb",
   "parameters": {},
   "start_time": "2022-06-16T17:49:02.967704",
   "version": "2.3.4"
  }
 },
 "nbformat": 4,
 "nbformat_minor": 5
}
